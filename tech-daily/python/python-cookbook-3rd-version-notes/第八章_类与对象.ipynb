{
 "cells": [
  {
   "cell_type": "markdown",
   "metadata": {},
   "source": [
    "## __repr__，__str__的区别和用法"
   ]
  },
  {
   "cell_type": "code",
   "execution_count": 36,
   "metadata": {},
   "outputs": [
    {
     "name": "stdout",
     "output_type": "stream",
     "text": [
      "Pair(1, 2)\n",
      "(1, 2)\n"
     ]
    }
   ],
   "source": [
    "class Pair: \n",
    "    def __init__(self, x, y): \n",
    "        self.x = x \n",
    "        self.y = y \n",
    "    def __repr__(self): \n",
    "        return 'Pair({0.x!r}, {0.y!r})'.format(self) \n",
    "    def __str__(self): \n",
    "        return '({0.x!s}, {0.y!s})'.format(self)\n",
    "\n",
    "p = Pair(1,2)\n",
    "print(repr(p))\n",
    "print(p)"
   ]
  },
  {
   "cell_type": "markdown",
   "metadata": {},
   "source": [
    "## __format__ 的用法"
   ]
  },
  {
   "cell_type": "code",
   "execution_count": 37,
   "metadata": {},
   "outputs": [
    {
     "name": "stdout",
     "output_type": "stream",
     "text": [
      "2017-4-17\n",
      "17/4/2017\n",
      "Today is 17/4/2017\n"
     ]
    }
   ],
   "source": [
    "_formats = { \n",
    "    'ymd' : '{0.year}-{0.month}-{0.day}', \n",
    "    'mdy' : '{0.month}/{0.day}/{0.year}', \n",
    "    'dmy' : '{0.day}/{0.month}/{0.year}' \n",
    "} \n",
    "class Date: \n",
    "    def __init__(self, year, month, day): \n",
    "        self.year = year \n",
    "        self.month = month \n",
    "        self.day = day \n",
    "    def __format__(self, code): \n",
    "        if code == '': \n",
    "            code = 'ymd' \n",
    "        fmt = _formats[code] \n",
    "        return fmt.format(self)\n",
    "    \n",
    "d = Date(2017,4,17)\n",
    "print(format(d))\n",
    "print(format(d, 'dmy'))\n",
    "print('Today is {:dmy}'.format(d)) #传参数的格式 {:arg1 arg2}"
   ]
  },
  {
   "cell_type": "markdown",
   "metadata": {},
   "source": [
    "## @property 的用法\n",
    "\n",
    "使用场景：你想给某个实例 attribute 增加除访问与修改之外的其他处理逻辑，比如类型检查 或合法性验证。\n",
    "\n",
    "描述符：@property是一个语法，property本身是一个描述符(descriptor)，描述符就是一个有`__get__`,`__set__`这样函数的类，根据文档，描述符只有声明为类的属性的时候，它的行为才能得到保证。"
   ]
  },
  {
   "cell_type": "code",
   "execution_count": 33,
   "metadata": {
    "collapsed": true,
    "scrolled": true
   },
   "outputs": [],
   "source": [
    "class Person:\n",
    "    def __init__(self, first_name):\n",
    "            self.first_name = first_name\n",
    "\n",
    "    # Getter function\n",
    "    @property\n",
    "    def first_name(self):\n",
    "        return self._first_name\n",
    "    \n",
    "    # Setter function\n",
    "    @first_name.setter\n",
    "    def first_name(self, value):\n",
    "        if not isinstance(value, str):\n",
    "            raise TypeError('Expected a string') \n",
    "        self._first_name = value\n",
    "\n",
    "    # Deleter function (optional)\n",
    "    @first_name.deleter\n",
    "    def first_name(self):\n",
    "        raise AttributeError(\"Can't delete attribute\")"
   ]
  },
  {
   "cell_type": "code",
   "execution_count": 34,
   "metadata": {},
   "outputs": [
    {
     "ename": "TypeError",
     "evalue": "Expected a string",
     "output_type": "error",
     "traceback": [
      "\u001b[0;31m---------------------------------------------------------------------------\u001b[0m",
      "\u001b[0;31mTypeError\u001b[0m                                 Traceback (most recent call last)",
      "\u001b[0;32m<ipython-input-34-fa742299e8c7>\u001b[0m in \u001b[0;36m<module>\u001b[0;34m()\u001b[0m\n\u001b[1;32m      1\u001b[0m \u001b[0mp\u001b[0m \u001b[0;34m=\u001b[0m \u001b[0mPerson\u001b[0m\u001b[0;34m(\u001b[0m\u001b[0;34m'Xiao'\u001b[0m\u001b[0;34m)\u001b[0m\u001b[0;34m\u001b[0m\u001b[0m\n\u001b[0;32m----> 2\u001b[0;31m \u001b[0mp\u001b[0m\u001b[0;34m.\u001b[0m\u001b[0mfirst_name\u001b[0m \u001b[0;34m=\u001b[0m \u001b[0;36m123\u001b[0m\u001b[0;34m\u001b[0m\u001b[0m\n\u001b[0m\u001b[1;32m      3\u001b[0m \u001b[0;32mdel\u001b[0m \u001b[0mp\u001b[0m\u001b[0;34m.\u001b[0m\u001b[0mfirst_name\u001b[0m\u001b[0;34m\u001b[0m\u001b[0m\n",
      "\u001b[0;32m<ipython-input-33-26f48e64f37b>\u001b[0m in \u001b[0;36mfirst_name\u001b[0;34m(self, value)\u001b[0m\n\u001b[1;32m     12\u001b[0m     \u001b[0;32mdef\u001b[0m \u001b[0mfirst_name\u001b[0m\u001b[0;34m(\u001b[0m\u001b[0mself\u001b[0m\u001b[0;34m,\u001b[0m \u001b[0mvalue\u001b[0m\u001b[0;34m)\u001b[0m\u001b[0;34m:\u001b[0m\u001b[0;34m\u001b[0m\u001b[0m\n\u001b[1;32m     13\u001b[0m         \u001b[0;32mif\u001b[0m \u001b[0;32mnot\u001b[0m \u001b[0misinstance\u001b[0m\u001b[0;34m(\u001b[0m\u001b[0mvalue\u001b[0m\u001b[0;34m,\u001b[0m \u001b[0mstr\u001b[0m\u001b[0;34m)\u001b[0m\u001b[0;34m:\u001b[0m\u001b[0;34m\u001b[0m\u001b[0m\n\u001b[0;32m---> 14\u001b[0;31m             \u001b[0;32mraise\u001b[0m \u001b[0mTypeError\u001b[0m\u001b[0;34m(\u001b[0m\u001b[0;34m'Expected a string'\u001b[0m\u001b[0;34m)\u001b[0m\u001b[0;34m\u001b[0m\u001b[0m\n\u001b[0m\u001b[1;32m     15\u001b[0m         \u001b[0mself\u001b[0m\u001b[0;34m.\u001b[0m\u001b[0m_first_name\u001b[0m \u001b[0;34m=\u001b[0m \u001b[0mvalue\u001b[0m\u001b[0;34m\u001b[0m\u001b[0m\n\u001b[1;32m     16\u001b[0m \u001b[0;34m\u001b[0m\u001b[0m\n",
      "\u001b[0;31mTypeError\u001b[0m: Expected a string"
     ]
    }
   ],
   "source": [
    "p = Person('Xiao')\n",
    "p.first_name = 123"
   ]
  },
  {
   "cell_type": "code",
   "execution_count": 249,
   "metadata": {},
   "outputs": [
    {
     "data": {
      "text/plain": [
       "100000"
      ]
     },
     "execution_count": 249,
     "metadata": {},
     "output_type": "execute_result"
    },
    {
     "data": {
      "text/plain": [
       "99999"
      ]
     },
     "execution_count": 249,
     "metadata": {},
     "output_type": "execute_result"
    },
    {
     "data": {
      "text/plain": [
       "2"
      ]
     },
     "execution_count": 249,
     "metadata": {},
     "output_type": "execute_result"
    },
    {
     "data": {
      "text/plain": [
       "1"
      ]
     },
     "execution_count": 249,
     "metadata": {},
     "output_type": "execute_result"
    },
    {
     "data": {
      "text/plain": [
       "1"
      ]
     },
     "execution_count": 249,
     "metadata": {},
     "output_type": "execute_result"
    },
    {
     "data": {
      "text/plain": [
       "True"
      ]
     },
     "execution_count": 249,
     "metadata": {},
     "output_type": "execute_result"
    }
   ],
   "source": [
    "class Parrot:\n",
    "    def __init__(self):\n",
    "        self._voltage = 100000\n",
    "    def fget(self):\n",
    "        \"\"\"Get the current voltage.\"\"\"\n",
    "        return self._voltage\n",
    "    def fset(self, value):\n",
    "        \"\"\"Set the current vlotage\"\"\"\n",
    "        self._voltage = value\n",
    "    voltage = property(fget,fset)\n",
    "\n",
    "parrot = Parrot() # 把方法变成了属性，然后这些方法是用来管理这个属性的。\n",
    "parrot2 = Parrot()\n",
    "parrot.voltage = 99999\n",
    "parrot2.voltage\n",
    "parrot.voltage    # 类的实例是各自变化的。\n",
    "\n",
    "Parrot.voltage.__set__(Parrot, 2) \n",
    "# 这里的过程，首先 Parrot.voltage 会调用 voltage.__get__，然后返回 property 对象本身，(见下方 property 的实现)\n",
    "# 然后会调用 property 本身的 __set__ 函数，传入参数是 (Parrot, 2)，__set__ 里调用了 fset ，fset 就是 Parrot 的实际设置函数\n",
    "# 相同的参数传入到 fset 里，然后就可以看到下面的结果 Parrot._voltage = 2\n",
    "Parrot._voltage\n",
    "\n",
    "Parrot.voltage = 1 # 注意！这里Parrot.voltage和上面一样得到的是 property 本身，然后对描述符自身赋值，是不会调用 __set__ 函数的\n",
    "                   # 而是将数字 1 绑定到了这个 voltage 描述符上。\n",
    "parrot.voltage     # 所有实例都会变，因为引用的都是类空间里的 voltage 变量，现在已经指向数字 1 了。\n",
    "parrot2.voltage    # 同上。\n",
    "type(Parrot.voltage) == type(parrot.voltage) == int\n"
   ]
  },
  {
   "cell_type": "markdown",
   "metadata": {},
   "source": [
    "[property 的实现，Gist Link](https://gist.github.com/tvytlx/1abbe7b0ae4c8837dacc174cad65e0ad)"
   ]
  },
  {
   "cell_type": "markdown",
   "metadata": {},
   "source": [
    "## super()\n",
    "super().method() 或者 super(Cls, self).method() 在类里的时候是一样的，因为前者会被编译器填充内容，而在类外动态添加的时候，前者则需要显示指明那两个参数`Cls, self`。"
   ]
  },
  {
   "cell_type": "code",
   "execution_count": 243,
   "metadata": {},
   "outputs": [
    {
     "name": "stdout",
     "output_type": "stream",
     "text": [
      "This is Class: C\n",
      "This is Class: C\n"
     ]
    }
   ],
   "source": [
    "class C(object):\n",
    "    def __init__(self):\n",
    "        pass\n",
    "    def print_(self):\n",
    "        print('This is Class: C')\n",
    "class A(C):\n",
    "    def test(self):\n",
    "        # 参数可以省略\n",
    "        super().print_()\n",
    "        \n",
    "a = A()\n",
    "a.test()\n",
    "def print_(self):\n",
    "    # 这里的参数不能少。\n",
    "    super(A, self).print_() # 给类添加一个方法，意味着给所有实例*绑定*一个新方法\n",
    "A.print_ = print_\n",
    "a.print_()"
   ]
  },
  {
   "cell_type": "markdown",
   "metadata": {},
   "source": [
    "还有一个问题是，怎么在子类中扩展父类描述符。\n",
    "\n",
    "```python\n",
    "class Person:\n",
    "    def __init__(self, name):\n",
    "        self.name = name\n",
    "    # Getter function\n",
    "    @property\n",
    "    def name(self):\n",
    "        return self._name\n",
    "    # Setter function\n",
    "    @name.setter\n",
    "    def name(self, value):\n",
    "        if not isinstance(value, str):\n",
    "            raise TypeError('Expected a string')\n",
    "        self._name = value\n",
    "    # Deleter function\n",
    "    @name.deleter\n",
    "    def name(self):\n",
    "        raise AttributeError(\"Can't delete attribute\")\n",
    "\n",
    "class SubPerson(Person): \n",
    "    @property\n",
    "    def name(self):\n",
    "        print('Getting name')\n",
    "        return super().name\n",
    "    @name.setter\n",
    "    def name(self, value):\n",
    "        print('Setting name to', value)\n",
    "        # 这里这么写是因为，只有通过父类的类变量才能拿到描述符，用父类的实例变量拿不到。\n",
    "        super(SubPerson, SubPerson).name.__set__(self, value)\n",
    "    @name.deleter\n",
    "    def name(self):\n",
    "        print('Deleting name')\n",
    "        super(SubPerson, SubPerson).name.__delete__(self)\n",
    "```"
   ]
  }
 ],
 "metadata": {
  "kernelspec": {
   "display_name": "Python 3",
   "language": "python",
   "name": "python3"
  },
  "language_info": {
   "codemirror_mode": {
    "name": "ipython",
    "version": 3
   },
   "file_extension": ".py",
   "mimetype": "text/x-python",
   "name": "python",
   "nbconvert_exporter": "python",
   "pygments_lexer": "ipython3",
   "version": "3.6.1"
  }
 },
 "nbformat": 4,
 "nbformat_minor": 2
}
